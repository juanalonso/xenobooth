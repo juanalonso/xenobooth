{
  "cells": [
    {
      "cell_type": "markdown",
      "metadata": {
        "id": "BzM7j0ZSc_9c"
      },
      "source": [
        "# XenoBooth\n",
        "Basado en el código de https://github.com/ShivamShrirao/diffusers/tree/main/examples/dreambooth, siguiendo el tutorial de https://medium.com/@pajunenpyry/easy-realistic-avatars-with-stable-diffusion-dreambooth-no-programming-step-by-step-seo-guide-no-711b70c91f69\n",
        "\n",
        "v1.05"
      ]
    },
    {
      "cell_type": "code",
      "execution_count": 14,
      "metadata": {
        "cellView": "form",
        "id": "vH4BiAI5Bo-4",
        "colab": {
          "base_uri": "https://localhost:8080/",
          "height": 381
        },
        "outputId": "1c70d7c4-b119-4011-d0fb-1acf6a9e23ab"
      },
      "outputs": [
        {
          "output_type": "error",
          "ename": "ValueError",
          "evalue": "Mountpoint must not already contain files",
          "traceback": [
            "\u001b[0;31m---------------------------------------------------------------------------\u001b[0m",
            "\u001b[0;31mValueError\u001b[0m                                Traceback (most recent call last)",
            "\u001b[0;32m<ipython-input-14-aa298180319f>\u001b[0m in \u001b[0;36m<cell line: 3>\u001b[0;34m()\u001b[0m\n\u001b[1;32m      1\u001b[0m \u001b[0;31m#@title ## 1 Conectar Google Drive\u001b[0m\u001b[0;34m\u001b[0m\u001b[0;34m\u001b[0m\u001b[0m\n\u001b[1;32m      2\u001b[0m \u001b[0;32mfrom\u001b[0m \u001b[0mgoogle\u001b[0m\u001b[0;34m.\u001b[0m\u001b[0mcolab\u001b[0m \u001b[0;32mimport\u001b[0m \u001b[0mdrive\u001b[0m\u001b[0;34m\u001b[0m\u001b[0;34m\u001b[0m\u001b[0m\n\u001b[0;32m----> 3\u001b[0;31m \u001b[0mdrive\u001b[0m\u001b[0;34m.\u001b[0m\u001b[0mmount\u001b[0m\u001b[0;34m(\u001b[0m\u001b[0;34m'/content/drive'\u001b[0m\u001b[0;34m)\u001b[0m\u001b[0;34m\u001b[0m\u001b[0;34m\u001b[0m\u001b[0m\n\u001b[0m",
            "\u001b[0;32m/usr/local/lib/python3.10/dist-packages/google/colab/drive.py\u001b[0m in \u001b[0;36mmount\u001b[0;34m(mountpoint, force_remount, timeout_ms, readonly)\u001b[0m\n\u001b[1;32m     98\u001b[0m \u001b[0;32mdef\u001b[0m \u001b[0mmount\u001b[0m\u001b[0;34m(\u001b[0m\u001b[0mmountpoint\u001b[0m\u001b[0;34m,\u001b[0m \u001b[0mforce_remount\u001b[0m\u001b[0;34m=\u001b[0m\u001b[0;32mFalse\u001b[0m\u001b[0;34m,\u001b[0m \u001b[0mtimeout_ms\u001b[0m\u001b[0;34m=\u001b[0m\u001b[0;36m120000\u001b[0m\u001b[0;34m,\u001b[0m \u001b[0mreadonly\u001b[0m\u001b[0;34m=\u001b[0m\u001b[0;32mFalse\u001b[0m\u001b[0;34m)\u001b[0m\u001b[0;34m:\u001b[0m\u001b[0;34m\u001b[0m\u001b[0;34m\u001b[0m\u001b[0m\n\u001b[1;32m     99\u001b[0m   \u001b[0;34m\"\"\"Mount your Google Drive at the specified mountpoint path.\"\"\"\u001b[0m\u001b[0;34m\u001b[0m\u001b[0;34m\u001b[0m\u001b[0m\n\u001b[0;32m--> 100\u001b[0;31m   return _mount(\n\u001b[0m\u001b[1;32m    101\u001b[0m       \u001b[0mmountpoint\u001b[0m\u001b[0;34m,\u001b[0m\u001b[0;34m\u001b[0m\u001b[0;34m\u001b[0m\u001b[0m\n\u001b[1;32m    102\u001b[0m       \u001b[0mforce_remount\u001b[0m\u001b[0;34m=\u001b[0m\u001b[0mforce_remount\u001b[0m\u001b[0;34m,\u001b[0m\u001b[0;34m\u001b[0m\u001b[0;34m\u001b[0m\u001b[0m\n",
            "\u001b[0;32m/usr/local/lib/python3.10/dist-packages/google/colab/drive.py\u001b[0m in \u001b[0;36m_mount\u001b[0;34m(mountpoint, force_remount, timeout_ms, ephemeral, readonly)\u001b[0m\n\u001b[1;32m    187\u001b[0m       \u001b[0;32mraise\u001b[0m \u001b[0mValueError\u001b[0m\u001b[0;34m(\u001b[0m\u001b[0;34m'Mountpoint must not be a symlink'\u001b[0m\u001b[0;34m)\u001b[0m\u001b[0;34m\u001b[0m\u001b[0;34m\u001b[0m\u001b[0m\n\u001b[1;32m    188\u001b[0m     \u001b[0;32mif\u001b[0m \u001b[0m_os\u001b[0m\u001b[0;34m.\u001b[0m\u001b[0mpath\u001b[0m\u001b[0;34m.\u001b[0m\u001b[0misdir\u001b[0m\u001b[0;34m(\u001b[0m\u001b[0mmountpoint\u001b[0m\u001b[0;34m)\u001b[0m \u001b[0;32mand\u001b[0m \u001b[0m_os\u001b[0m\u001b[0;34m.\u001b[0m\u001b[0mlistdir\u001b[0m\u001b[0;34m(\u001b[0m\u001b[0mmountpoint\u001b[0m\u001b[0;34m)\u001b[0m\u001b[0;34m:\u001b[0m\u001b[0;34m\u001b[0m\u001b[0;34m\u001b[0m\u001b[0m\n\u001b[0;32m--> 189\u001b[0;31m       \u001b[0;32mraise\u001b[0m \u001b[0mValueError\u001b[0m\u001b[0;34m(\u001b[0m\u001b[0;34m'Mountpoint must not already contain files'\u001b[0m\u001b[0;34m)\u001b[0m\u001b[0;34m\u001b[0m\u001b[0;34m\u001b[0m\u001b[0m\n\u001b[0m\u001b[1;32m    190\u001b[0m     \u001b[0;32mif\u001b[0m \u001b[0;32mnot\u001b[0m \u001b[0m_os\u001b[0m\u001b[0;34m.\u001b[0m\u001b[0mpath\u001b[0m\u001b[0;34m.\u001b[0m\u001b[0misdir\u001b[0m\u001b[0;34m(\u001b[0m\u001b[0mmountpoint\u001b[0m\u001b[0;34m)\u001b[0m \u001b[0;32mand\u001b[0m \u001b[0m_os\u001b[0m\u001b[0;34m.\u001b[0m\u001b[0mpath\u001b[0m\u001b[0;34m.\u001b[0m\u001b[0mexists\u001b[0m\u001b[0;34m(\u001b[0m\u001b[0mmountpoint\u001b[0m\u001b[0;34m)\u001b[0m\u001b[0;34m:\u001b[0m\u001b[0;34m\u001b[0m\u001b[0;34m\u001b[0m\u001b[0m\n\u001b[1;32m    191\u001b[0m       \u001b[0;32mraise\u001b[0m \u001b[0mValueError\u001b[0m\u001b[0;34m(\u001b[0m\u001b[0;34m'Mountpoint must either be a directory or not exist'\u001b[0m\u001b[0;34m)\u001b[0m\u001b[0;34m\u001b[0m\u001b[0;34m\u001b[0m\u001b[0m\n",
            "\u001b[0;31mValueError\u001b[0m: Mountpoint must not already contain files"
          ]
        }
      ],
      "source": [
        "#@title ## 1 Conectar Google Drive\n",
        "from google.colab import drive\n",
        "drive.mount('/content/drive')\n"
      ]
    },
    {
      "cell_type": "code",
      "execution_count": null,
      "metadata": {
        "cellView": "form",
        "id": "XU7NuMAA2drw"
      },
      "outputs": [],
      "source": [
        "#@title ## 2 Comprobar GPU\n",
        "!nvidia-smi --query-gpu=name,memory.total,memory.free --format=csv,noheader"
      ]
    },
    {
      "cell_type": "code",
      "execution_count": 9,
      "metadata": {
        "id": "aLWXPZqjsZVV",
        "colab": {
          "base_uri": "https://localhost:8080/"
        },
        "outputId": "ffb598c9-d9ef-45a4-e0c0-d442a3be0186"
      },
      "outputs": [
        {
          "output_type": "stream",
          "name": "stdout",
          "text": [
            "  Installing build dependencies ... \u001b[?25l\u001b[?25hdone\n",
            "  Getting requirements to build wheel ... \u001b[?25l\u001b[?25hdone\n",
            "  Preparing metadata (pyproject.toml) ... \u001b[?25l\u001b[?25hdone\n"
          ]
        }
      ],
      "source": [
        "#@title ## 3 Librerías y módulos\n",
        "\n",
        "%pip install -q torch==2.0.0+cu118 torchvision==0.15.1+cu118 torchaudio==2.0.1+cu118 torchtext==0.15.1 torchdata==0.6.0 --extra-index-url https://download.pytorch.org/whl/cu118 -U\n",
        "%pip install -q xformers==0.0.19 triton==2.0.0 -U\n",
        "\n",
        "!wget -q https://github.com/ShivamShrirao/diffusers/raw/main/examples/dreambooth/train_dreambooth.py\n",
        "!wget -q https://github.com/ShivamShrirao/diffusers/raw/main/scripts/convert_diffusers_to_original_stable_diffusion.py\n",
        "%pip install -qq git+https://github.com/ShivamShrirao/diffusers\n",
        "\n",
        "%pip install -q accelerate transformers ftfy bitsandbytes==0.35.0 gradio==3.48.0 natsort safetensors\n",
        "\n",
        "# %pip install -q -U --pre triton\n",
        "# %pip install -q accelerate transformers ftfy bitsandbytes==0.35.0 gradio natsort safetensors xformers\n",
        "\n",
        "import gradio as gr\n",
        "import json\n",
        "import matplotlib.image as mpimg\n",
        "import matplotlib.pyplot as plt\n",
        "import os\n",
        "import time\n",
        "import torch\n",
        "from datetime import datetime\n",
        "from diffusers import StableDiffusionPipeline, DDIMScheduler\n",
        "from glob import glob\n",
        "from IPython.display import display, HTML\n",
        "from natsort import natsorted\n",
        "from torch import autocast\n",
        "\n",
        "def prettyprint(texto):\n",
        "  display(HTML(texto))\n",
        "  #print(texto)"
      ]
    },
    {
      "cell_type": "code",
      "execution_count": 13,
      "metadata": {
        "id": "yZbtVEw1BxKm",
        "colab": {
          "base_uri": "https://localhost:8080/",
          "height": 53
        },
        "outputId": "dacbfcce-1be1-475a-9d5f-b1f2b6569bdd"
      },
      "outputs": [
        {
          "output_type": "display_data",
          "data": {
            "text/plain": [
              "<IPython.core.display.HTML object>"
            ],
            "text/html": [
              "Copia los <b>ejemplos</b> en la carpeta <code>xenobooth/data/woman</code>"
            ]
          },
          "metadata": {}
        },
        {
          "output_type": "display_data",
          "data": {
            "text/plain": [
              "<IPython.core.display.HTML object>"
            ],
            "text/html": [
              "Copia tus <b>fotos</b> en la carpeta <code>xenobooth/brplz/selfies</code>"
            ]
          },
          "metadata": {}
        }
      ],
      "source": [
        "#@title ## 4 El nombre de la cosa\n",
        "\n",
        "#@markdown Introduce el nombre -en inglés- de la clase (woman, man, child, boy, girl, person...)\n",
        "CLASS_NAME = \"woman\" #@param {type:\"string\"}\n",
        "\n",
        "#@markdown Introduce el nombre de la instancia\n",
        "INSTANCE_NAME = \"brplz\" #@param {type:\"string\"}\n",
        "\n",
        "BASE_DIR = \"/content/drive/MyDrive/\"\n",
        "MODEL_NAME = \"runwayml/stable-diffusion-v1-5\"\n",
        "\n",
        "OUTPUT_DIR = f\"{BASE_DIR}xenobooth/{INSTANCE_NAME}/pesos\"\n",
        "INSTANCE_DATA_DIR = f\"{BASE_DIR}xenobooth/{INSTANCE_NAME}/selfies\"\n",
        "CLASS_DATA_DIR = f\"{BASE_DIR}xenobooth/data/{CLASS_NAME}\"\n",
        "GENERATION_DIR = f\"{BASE_DIR}xenobooth/{INSTANCE_NAME}/generadas\"\n",
        "\n",
        "os.makedirs(OUTPUT_DIR, exist_ok=True)\n",
        "os.makedirs(GENERATION_DIR, exist_ok=True)\n",
        "\n",
        "concepts_list = [\n",
        "    {\n",
        "        \"instance_prompt\":      \"photo of \" + INSTANCE_NAME + \" \" + CLASS_NAME,\n",
        "        \"class_prompt\":         \"photo of a \" + CLASS_NAME,\n",
        "        \"instance_data_dir\":    INSTANCE_DATA_DIR,\n",
        "        \"class_data_dir\":       CLASS_DATA_DIR\n",
        "    }\n",
        "]\n",
        "\n",
        "# print(f\"[*] Los pesos se almacenarán en la carpeta {OUTPUT_DIR}\")\n",
        "\n",
        "for c in concepts_list:\n",
        "    os.makedirs(c[\"instance_data_dir\"], exist_ok=True)\n",
        "\n",
        "with open(\"concepts_list.json\", \"w\") as f:\n",
        "    json.dump(concepts_list, f, indent=4)\n",
        "\n",
        "CONCEPT = concepts_list[0][\"instance_prompt\"]\n",
        "\n",
        "prettyprint(f\"Copia los <b>ejemplos</b> en la carpeta <code>xenobooth/data/{CLASS_NAME}</code>\")\n",
        "prettyprint(f\"Copia tus <b>fotos</b> en la carpeta <code>xenobooth/{INSTANCE_NAME}/selfies</code>\")\n"
      ]
    },
    {
      "cell_type": "code",
      "execution_count": 5,
      "metadata": {
        "cellView": "form",
        "id": "32gYIDDR1aCp",
        "colab": {
          "base_uri": "https://localhost:8080/"
        },
        "outputId": "e96abf5a-7c3f-4cbc-8c15-97773090743b"
      },
      "outputs": [
        {
          "output_type": "stream",
          "name": "stdout",
          "text": [
            "Has subido 0 imágenes\n"
          ]
        }
      ],
      "source": [
        "#@title ## 5 Una vez copiadas, comprobamos que todo está OK\n",
        "\n",
        "NUM_IMAGES = 0\n",
        "for path in os.listdir(INSTANCE_DATA_DIR):\n",
        "    if os.path.isfile(os.path.join(INSTANCE_DATA_DIR, path)):\n",
        "        NUM_IMAGES += 1\n",
        "print(f'Has subido {NUM_IMAGES} imágenes')"
      ]
    },
    {
      "cell_type": "code",
      "execution_count": 6,
      "metadata": {
        "id": "jjcSXTp-u-Eg",
        "colab": {
          "base_uri": "https://localhost:8080/",
          "height": 1000
        },
        "outputId": "970688b1-bd68-48cd-897a-3bada416d587"
      },
      "outputs": [
        {
          "output_type": "stream",
          "name": "stdout",
          "text": [
            "2024-02-10 17:31:16.228943: E external/local_xla/xla/stream_executor/cuda/cuda_dnn.cc:9261] Unable to register cuDNN factory: Attempting to register factory for plugin cuDNN when one has already been registered\n",
            "2024-02-10 17:31:16.228996: E external/local_xla/xla/stream_executor/cuda/cuda_fft.cc:607] Unable to register cuFFT factory: Attempting to register factory for plugin cuFFT when one has already been registered\n",
            "2024-02-10 17:31:16.230259: E external/local_xla/xla/stream_executor/cuda/cuda_blas.cc:1515] Unable to register cuBLAS factory: Attempting to register factory for plugin cuBLAS when one has already been registered\n",
            "2024-02-10 17:31:17.307679: W tensorflow/compiler/tf2tensorrt/utils/py_utils.cc:38] TF-TRT Warning: Could not find TensorRT\n",
            "tokenizer/tokenizer_config.json: 100% 822/822 [00:00<00:00, 3.83MB/s]\n",
            "tokenizer/vocab.json: 100% 1.06M/1.06M [00:01<00:00, 1.05MB/s]\n",
            "tokenizer/merges.txt: 100% 525k/525k [00:00<00:00, 695kB/s]\n",
            "tokenizer/special_tokens_map.json: 100% 472/472 [00:00<00:00, 2.13MB/s]\n",
            "text_encoder/config.json: 100% 636/636 [00:00<00:00, 3.29MB/s]\n",
            "pytorch_model.bin: 100% 246M/246M [00:00<00:00, 349MB/s]\n",
            "vae/config.json: 100% 609/609 [00:00<00:00, 2.92MB/s]\n",
            "diffusion_pytorch_model.bin: 100% 167M/167M [00:00<00:00, 281MB/s]\n",
            "unet/config.json: 100% 806/806 [00:00<00:00, 3.72MB/s]\n",
            "diffusion_pytorch_model.bin: 100% 1.72G/1.72G [00:11<00:00, 154MB/s]\n",
            "\n",
            "===================================BUG REPORT===================================\n",
            "Welcome to bitsandbytes. For bug reports, please submit your error trace to: https://github.com/TimDettmers/bitsandbytes/issues\n",
            "For effortless bug reporting copy-paste your error into this form: https://docs.google.com/forms/d/e/1FAIpQLScPB8emS3Thkp66nvqwmjTEgxp8Y9ufuWTzFyr9kJ5AoI47dQ/viewform?usp=sf_link\n",
            "================================================================================\n",
            "/usr/local/lib/python3.10/dist-packages/bitsandbytes/cuda_setup/paths.py:105: UserWarning: /usr/lib64-nvidia did not contain libcudart.so as expected! Searching further paths...\n",
            "  warn(\n",
            "/usr/local/lib/python3.10/dist-packages/bitsandbytes/cuda_setup/paths.py:27: UserWarning: WARNING: The following directories listed in your path were found to be non-existent: {PosixPath('/sys/fs/cgroup/memory.events /var/colab/cgroup/jupyter-children/memory.events')}\n",
            "  warn(\n",
            "/usr/local/lib/python3.10/dist-packages/bitsandbytes/cuda_setup/paths.py:27: UserWarning: WARNING: The following directories listed in your path were found to be non-existent: {PosixPath('http'), PosixPath('//172.28.0.1'), PosixPath('8013')}\n",
            "  warn(\n",
            "/usr/local/lib/python3.10/dist-packages/bitsandbytes/cuda_setup/paths.py:27: UserWarning: WARNING: The following directories listed in your path were found to be non-existent: {PosixPath('//colab.research.google.com/tun/m/cc48301118ce562b961b3c22d803539adc1e0c19/gpu-t4-s-3380ahrnjdkg1 --tunnel_background_save_delay=10s --tunnel_periodic_background_save_frequency=30m0s --enable_output_coalescing=true --output_coalescing_required=true'), PosixPath('--logtostderr --listen_host=172.28.0.12 --target_host=172.28.0.12 --tunnel_background_save_url=https')}\n",
            "  warn(\n",
            "/usr/local/lib/python3.10/dist-packages/bitsandbytes/cuda_setup/paths.py:27: UserWarning: WARNING: The following directories listed in your path were found to be non-existent: {PosixPath('/datalab/web/pyright/typeshed-fallback/stdlib,/usr/local/lib/python3.10/dist-packages')}\n",
            "  warn(\n",
            "/usr/local/lib/python3.10/dist-packages/bitsandbytes/cuda_setup/paths.py:27: UserWarning: WARNING: The following directories listed in your path were found to be non-existent: {PosixPath('/env/python')}\n",
            "  warn(\n",
            "/usr/local/lib/python3.10/dist-packages/bitsandbytes/cuda_setup/paths.py:27: UserWarning: WARNING: The following directories listed in your path were found to be non-existent: {PosixPath('//ipykernel.pylab.backend_inline'), PosixPath('module')}\n",
            "  warn(\n",
            "CUDA_SETUP: WARNING! libcudart.so not found in any environmental path. Searching /usr/local/cuda/lib64...\n",
            "CUDA SETUP: CUDA runtime path found: /usr/local/cuda/lib64/libcudart.so\n",
            "CUDA SETUP: Highest compute capability among GPUs detected: 7.5\n",
            "CUDA SETUP: Detected CUDA version 122\n",
            "CUDA SETUP: TODO: compile library for specific version: libbitsandbytes_cuda122.so\n",
            "CUDA SETUP: Defaulting to libbitsandbytes.so...\n",
            "CUDA SETUP: CUDA detection failed. Either CUDA driver not installed, CUDA not installed, or you have multiple conflicting CUDA libraries!\n",
            "CUDA SETUP: If you compiled from source, try again with `make CUDA_VERSION=DETECTED_CUDA_VERSION` for example, `make CUDA_VERSION=113`.\n",
            "Traceback (most recent call last):\n",
            "  File \"/content/train_dreambooth.py\", line 869, in <module>\n",
            "    main(args)\n",
            "  File \"/content/train_dreambooth.py\", line 571, in main\n",
            "    import bitsandbytes as bnb\n",
            "  File \"/usr/local/lib/python3.10/dist-packages/bitsandbytes/__init__.py\", line 6, in <module>\n",
            "    from .autograd._functions import (\n",
            "  File \"/usr/local/lib/python3.10/dist-packages/bitsandbytes/autograd/_functions.py\", line 5, in <module>\n",
            "    import bitsandbytes.functional as F\n",
            "  File \"/usr/local/lib/python3.10/dist-packages/bitsandbytes/functional.py\", line 13, in <module>\n",
            "    from .cextension import COMPILED_WITH_CUDA, lib\n",
            "  File \"/usr/local/lib/python3.10/dist-packages/bitsandbytes/cextension.py\", line 41, in <module>\n",
            "    lib = CUDALibrary_Singleton.get_instance().lib\n",
            "  File \"/usr/local/lib/python3.10/dist-packages/bitsandbytes/cextension.py\", line 37, in get_instance\n",
            "    cls._instance.initialize()\n",
            "  File \"/usr/local/lib/python3.10/dist-packages/bitsandbytes/cextension.py\", line 27, in initialize\n",
            "    raise Exception('CUDA SETUP: Setup Failed!')\n",
            "Exception: CUDA SETUP: Setup Failed!\n",
            "43 segundos\n"
          ]
        },
        {
          "output_type": "error",
          "ename": "IndexError",
          "evalue": "list index out of range",
          "traceback": [
            "\u001b[0;31m---------------------------------------------------------------------------\u001b[0m",
            "\u001b[0;31mIndexError\u001b[0m                                Traceback (most recent call last)",
            "\u001b[0;32m<ipython-input-6-a41d5eb67819>\u001b[0m in \u001b[0;36m<cell line: 14>\u001b[0;34m()\u001b[0m\n\u001b[1;32m     12\u001b[0m \u001b[0mprint\u001b[0m\u001b[0;34m(\u001b[0m\u001b[0;34mf\"{end - start:.0f} segundos\"\u001b[0m\u001b[0;34m)\u001b[0m\u001b[0;34m\u001b[0m\u001b[0;34m\u001b[0m\u001b[0m\n\u001b[1;32m     13\u001b[0m \u001b[0;34m\u001b[0m\u001b[0m\n\u001b[0;32m---> 14\u001b[0;31m \u001b[0mWEIGHTS_DIR\u001b[0m \u001b[0;34m=\u001b[0m \u001b[0mnatsorted\u001b[0m\u001b[0;34m(\u001b[0m\u001b[0mglob\u001b[0m\u001b[0;34m(\u001b[0m\u001b[0mOUTPUT_DIR\u001b[0m \u001b[0;34m+\u001b[0m \u001b[0mos\u001b[0m\u001b[0;34m.\u001b[0m\u001b[0msep\u001b[0m \u001b[0;34m+\u001b[0m \u001b[0;34m\"*\"\u001b[0m\u001b[0;34m)\u001b[0m\u001b[0;34m)\u001b[0m\u001b[0;34m[\u001b[0m\u001b[0;34m-\u001b[0m\u001b[0;36m1\u001b[0m\u001b[0;34m]\u001b[0m\u001b[0;34m\u001b[0m\u001b[0;34m\u001b[0m\u001b[0m\n\u001b[0m\u001b[1;32m     15\u001b[0m \u001b[0mprettyprint\u001b[0m\u001b[0;34m(\u001b[0m\u001b[0;34mf\"### WEIGHTS_DIR={WEIGHTS_DIR}\"\u001b[0m\u001b[0;34m)\u001b[0m\u001b[0;34m\u001b[0m\u001b[0;34m\u001b[0m\u001b[0m\n",
            "\u001b[0;31mIndexError\u001b[0m: list index out of range"
          ]
        }
      ],
      "source": [
        "#@title ## 6 Arranca el entrenamiento\n",
        "\n",
        "num_class_images = NUM_IMAGES * 12\n",
        "max_train_steps = NUM_IMAGES * 80\n",
        "lr_warmup_steps = max_train_steps // 10\n",
        "\n",
        "start = time.time()\n",
        "\n",
        "!python3 train_dreambooth.py \\\n",
        "  --num_class_images=$num_class_images \\\n",
        "  --max_train_steps=$max_train_steps \\\n",
        "  --lr_warmup_steps=$lr_warmup_steps \\\n",
        "  --pretrained_model_name_or_path=$MODEL_NAME \\\n",
        "  --save_sample_prompt=\"$CONCEPT\" \\\n",
        "  --pretrained_vae_name_or_path=\"stabilityai/sd-vae-ft-mse\" \\\n",
        "  --output_dir=$OUTPUT_DIR \\\n",
        "  --revision=\"fp16\" \\\n",
        "  --with_prior_preservation \\\n",
        "  --prior_loss_weight=1.0 \\\n",
        "  --seed=1337 \\\n",
        "  --resolution=512 \\\n",
        "  --train_batch_size=1 \\\n",
        "  --train_text_encoder \\\n",
        "  --mixed_precision=\"fp16\" \\\n",
        "  --use_8bit_adam \\\n",
        "  --gradient_accumulation_steps=1 \\\n",
        "  --learning_rate=1e-6 \\\n",
        "  --lr_scheduler=\"constant\" \\\n",
        "  --sample_batch_size=4 \\\n",
        "  --save_interval=10000 \\\n",
        "  --concepts_list=\"concepts_list.json\"\n",
        "\n",
        "end = time.time()\n",
        "print(f\"{end - start:.0f} segundos\")\n",
        "\n",
        "WEIGHTS_DIR = natsorted(glob(OUTPUT_DIR + os.sep + \"*\"))[-1]\n",
        "prettyprint(f\"### WEIGHTS_DIR={WEIGHTS_DIR}\")"
      ]
    },
    {
      "cell_type": "code",
      "execution_count": null,
      "metadata": {
        "cellView": "form",
        "id": "QB3iXe7iA0BR"
      },
      "outputs": [],
      "source": [
        "#@title ## 7 Primeros resultados\n",
        "\n",
        "weights_folder = OUTPUT_DIR\n",
        "folders = sorted([f for f in os.listdir(weights_folder) if f != \"0\"], key=lambda x: int(x))\n",
        "\n",
        "row = len(folders)\n",
        "col = len(os.listdir(os.path.join(weights_folder, folders[0], \"samples\")))\n",
        "scale = 4\n",
        "fig, axes = plt.subplots(row, col, figsize=(col*scale, row*scale), gridspec_kw={'hspace': 0, 'wspace': 0})\n",
        "\n",
        "for i, folder in enumerate(folders):\n",
        "    folder_path = os.path.join(weights_folder, folder)\n",
        "    image_folder = os.path.join(folder_path, \"samples\")\n",
        "    images = [f for f in os.listdir(image_folder)]\n",
        "    for j, image in enumerate(images):\n",
        "        if row == 1:\n",
        "            currAxes = axes[j]\n",
        "        else:\n",
        "            currAxes = axes[i, j]\n",
        "        if i == 0:\n",
        "            currAxes.set_title(f\"Image {j}\")\n",
        "        if j == 0:\n",
        "            currAxes.text(-0.1, 0.5, folder, rotation=0, va='center', ha='center', transform=currAxes.transAxes)\n",
        "        image_path = os.path.join(image_folder, image)\n",
        "        img = mpimg.imread(image_path)\n",
        "        currAxes.imshow(img, cmap='gray')\n",
        "        currAxes.axis('off')\n",
        "\n",
        "plt.tight_layout()\n",
        "plt.savefig('grid.png', dpi=72)"
      ]
    },
    {
      "cell_type": "code",
      "execution_count": null,
      "metadata": {
        "cellView": "form",
        "id": "EGgQEVdOmMTQ"
      },
      "outputs": [],
      "source": [
        "#@title ## 8 Elegir modelo\n",
        "#@markdown  Será una ruta parecida a esta: /content/drive/MyDrive/maquinito10/INSTANCE_NAME/pesos/1200\n",
        "\n",
        "model_path = \"/content/drive/MyDrive/maquinito10/brplz/pesos/1200\" #@param {type:\"string\"}\n",
        "\n",
        "if model_path == \"\":\n",
        "  try:\n",
        "    WEIGHTS_DIR\n",
        "  except NameError:\n",
        "    prettyprint(\"### ERROR: model_path no está definido\")\n",
        "  else:\n",
        "    if WEIGHTS_DIR is None or WEIGHTS_DIR == \"\":\n",
        "      prettyprint(\"### ERROR: model_path no está definido\")\n",
        "    else:\n",
        "      final_model_path = WEIGHTS_DIR\n",
        "      print(f\"model_path = {final_model_path}\")\n",
        "else:\n",
        "    final_model_path = model_path\n",
        "    print(f\"model_path = {final_model_path}\")\n",
        "if not os.path.isdir(final_model_path):\n",
        "    prettyprint(f\"## No encuentro la carpeta {final_model_path}\")\n"
      ]
    },
    {
      "cell_type": "code",
      "execution_count": null,
      "metadata": {
        "cellView": "form",
        "id": "gW15FjffdTID"
      },
      "outputs": [],
      "source": [
        "#@title ## 9 Generar imágenes\n",
        "pipe = StableDiffusionPipeline.from_pretrained(final_model_path, torch_dtype=torch.float16).to(\"cuda\")\n",
        "pipe.scheduler = DDIMScheduler.from_config(pipe.scheduler.config)\n",
        "pipe.enable_xformers_memory_efficient_attention()\n",
        "g_cuda = torch.Generator(device='cuda')\n",
        "\n",
        "def inference(prompt, negative_prompt, num_samples, random_seed, num_inference_steps=30, guidance_scale=9):\n",
        "    with torch.autocast(\"cuda\"), torch.inference_mode():\n",
        "        g_cuda.manual_seed(random_seed)\n",
        "        images = pipe(\n",
        "                prompt, height=int(512), width=int(512),\n",
        "                negative_prompt=negative_prompt,\n",
        "                num_images_per_prompt=int(num_samples),\n",
        "                num_inference_steps=int(num_inference_steps), guidance_scale=guidance_scale,\n",
        "                generator=g_cuda\n",
        "            ).images\n",
        "        ahora = datetime.now().strftime('%H%M%S')\n",
        "        for index, image in enumerate(images):\n",
        "          image.save(f\"{GENERATION_DIR}/mq10_{ahora}_{index+1}.jpg\", quality=100, subsampling=0)\n",
        "        return images\n",
        "\n",
        "with gr.Blocks() as demo:\n",
        "    with gr.Row():\n",
        "        with gr.Column():\n",
        "            prompt = gr.Textbox(label=\"Prompt\", value=f\"a portrait of a {INSTANCE_NAME} {CLASS_NAME}, oil painting, by sorolla\")\n",
        "            negative_prompt = gr.Textbox(label=\"Negative Prompt\", value=\"ugly, additional arms, additional legs, additional head, two heads, blurry, pixelated, extra hands, extra arms, collage, grainy, low, poor, monochrome\")\n",
        "            run = gr.Button(value=\"Generate\")\n",
        "            random_seed = gr.Slider(label=\"Seed\", value=2345678, maximum=9999999, step=1)\n",
        "            num_inference_steps = gr.Slider(label=\"Steps\", value=30)\n",
        "            with gr.Row():\n",
        "                num_samples = gr.Number(label=\"Number of Samples\", value=1)\n",
        "                guidance_scale = gr.Number(label=\"Guidance Scale\", value=9)\n",
        "        with gr.Column():\n",
        "            gallery = gr.Gallery().style(preview=True)\n",
        "\n",
        "    run.click(inference, inputs=[prompt, negative_prompt, num_samples, random_seed, num_inference_steps, guidance_scale], outputs=gallery)\n",
        "\n",
        "demo.launch(debug=True)"
      ]
    }
  ],
  "metadata": {
    "accelerator": "GPU",
    "colab": {
      "provenance": []
    },
    "kernelspec": {
      "display_name": "Python 3",
      "name": "python3"
    },
    "language_info": {
      "codemirror_mode": {
        "name": "ipython",
        "version": 3
      },
      "file_extension": ".py",
      "mimetype": "text/x-python",
      "name": "python",
      "nbconvert_exporter": "python",
      "pygments_lexer": "ipython3",
      "version": "3.10.10"
    },
    "vscode": {
      "interpreter": {
        "hash": "e7370f93d1d0cde622a1f8e1c04877d8463912d04d973331ad4851f04de6915a"
      }
    }
  },
  "nbformat": 4,
  "nbformat_minor": 0
}